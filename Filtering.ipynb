{
 "cells": [
  {
   "cell_type": "code",
   "execution_count": 1,
   "metadata": {},
   "outputs": [],
   "source": [
    "import nltk\n",
    "import string\n",
    "from nltk.tokenize import sent_tokenize, word_tokenize\n",
    "from nltk.corpus import stopwords"
   ]
  },
  {
   "cell_type": "code",
   "execution_count": 2,
   "metadata": {},
   "outputs": [
    {
     "name": "stdout",
     "output_type": "stream",
     "text": [
      "['mahasiswa', 'unisbank', 'jurusan', 'teknik', 'informatika', 'pembelajarannya', 'media', 'daring', 'online']\n"
     ]
    }
   ],
   "source": [
    "kalimat = \"Saya adalah mahasiswa UNISBANK jurusan Teknik Informatika, pada tahun ini pembelajarannya melalui media daring atau online.\"\n",
    "kalimat = kalimat.translate(str.maketrans('','',string.punctuation)).lower()\n",
    " \n",
    "tokens = word_tokenize(kalimat)\n",
    "listStopword =  set(stopwords.words('indonesian'))\n",
    " \n",
    "removed = []\n",
    "for t in tokens:\n",
    "    if t not in listStopword:\n",
    "        removed.append(t)\n",
    " \n",
    "print(removed)"
   ]
  },
  {
   "cell_type": "code",
   "execution_count": null,
   "metadata": {},
   "outputs": [],
   "source": []
  }
 ],
 "metadata": {
  "kernelspec": {
   "display_name": "Python 3",
   "language": "python",
   "name": "python3"
  },
  "language_info": {
   "codemirror_mode": {
    "name": "ipython",
    "version": 3
   },
   "file_extension": ".py",
   "mimetype": "text/x-python",
   "name": "python",
   "nbconvert_exporter": "python",
   "pygments_lexer": "ipython3",
   "version": "3.8.3"
  }
 },
 "nbformat": 4,
 "nbformat_minor": 4
}
